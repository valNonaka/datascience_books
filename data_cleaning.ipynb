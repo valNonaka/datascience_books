{
 "cells": [
  {
   "cell_type": "code",
   "execution_count": 2,
   "id": "1ec52ff9-bc91-4090-a4e0-352086838be1",
   "metadata": {
    "tags": []
   },
   "outputs": [],
   "source": [
    "import pandas as pd\n",
    "import numpy as np"
   ]
  },
  {
   "cell_type": "code",
   "execution_count": 3,
   "id": "b5807c0b-343d-436b-9d17-7a5b21279202",
   "metadata": {
    "tags": []
   },
   "outputs": [],
   "source": [
    "df = pd.read_csv('datasets/final_book_dataset_kaggle 2.csv')"
   ]
  },
  {
   "cell_type": "code",
   "execution_count": 4,
   "id": "c47e4f66-d291-4abe-942d-e14add9b6cd5",
   "metadata": {
    "tags": []
   },
   "outputs": [
    {
     "name": "stdout",
     "output_type": "stream",
     "text": [
      "<class 'pandas.core.frame.DataFrame'>\n",
      "RangeIndex: 946 entries, 0 to 945\n",
      "Data columns (total 18 columns):\n",
      " #   Column         Non-Null Count  Dtype  \n",
      "---  ------         --------------  -----  \n",
      " 0   title          946 non-null    object \n",
      " 1   author         824 non-null    object \n",
      " 2   price          944 non-null    float64\n",
      " 3   pages          934 non-null    float64\n",
      " 4   avg_reviews    823 non-null    float64\n",
      " 5   n_reviews      946 non-null    int64  \n",
      " 6   star5          946 non-null    float64\n",
      " 7   star4          946 non-null    float64\n",
      " 8   star3          946 non-null    float64\n",
      " 9   star2          946 non-null    float64\n",
      " 10  star1          946 non-null    float64\n",
      " 11  dimensions     914 non-null    object \n",
      " 12  weight         943 non-null    object \n",
      " 13  language       943 non-null    object \n",
      " 14  publisher      942 non-null    object \n",
      " 15  ISBN_13        945 non-null    object \n",
      " 16  link           946 non-null    object \n",
      " 17  complete_link  946 non-null    object \n",
      "dtypes: float64(8), int64(1), object(9)\n",
      "memory usage: 133.2+ KB\n"
     ]
    }
   ],
   "source": [
    "df.info()"
   ]
  },
  {
   "cell_type": "markdown",
   "id": "31f6375f-4ef0-49b2-8243-7dee0d4088db",
   "metadata": {},
   "source": [
    "---"
   ]
  },
  {
   "cell_type": "markdown",
   "id": "d1f004c5-0c1e-4838-a674-a5b9203fe05f",
   "metadata": {
    "tags": []
   },
   "source": [
    "#### **Pré-tratamento dos valores núlos relevantes para análise,**  \n",
    "- como nosso objetivo é listar os mais bem avaliados para criar uma lista de possíveis recomendações de leitura,  vamos tratar somente os valores nulos em 'author' e 'avg_reviews'"
   ]
  },
  {
   "cell_type": "code",
   "execution_count": 4,
   "id": "aac9e1f8-2bd8-4ba3-a0b0-d7c2a5f1c319",
   "metadata": {
    "tags": []
   },
   "outputs": [
    {
     "data": {
      "text/plain": [
       "122"
      ]
     },
     "execution_count": 4,
     "metadata": {},
     "output_type": "execute_result"
    }
   ],
   "source": [
    "null = df['author'].isna()\n",
    "null.sum() # identificamos 122 valores núlos na varíável autores"
   ]
  },
  {
   "cell_type": "code",
   "execution_count": 5,
   "id": "5c17930e-cf7a-4c22-a171-7a9bfbc66d3b",
   "metadata": {
    "tags": []
   },
   "outputs": [
    {
     "data": {
      "text/plain": [
       "123"
      ]
     },
     "execution_count": 5,
     "metadata": {},
     "output_type": "execute_result"
    }
   ],
   "source": [
    "null = df['avg_reviews'].isna()\n",
    "null.sum() # identificamos 123 valores nulos em avg_reviews"
   ]
  },
  {
   "cell_type": "markdown",
   "id": "6e2fc31d-8938-498f-a32a-cdca2e516421",
   "metadata": {},
   "source": [
    "---"
   ]
  },
  {
   "cell_type": "markdown",
   "id": "5386e10e-def7-4513-9f63-7da68dbada7b",
   "metadata": {
    "tags": []
   },
   "source": [
    "#### **O primeiro método consiste em usar o código 'ISBN_13' em conjunto com a api do google books para atualizar os valores nulos no df**\n",
    "- será criado um novo dataframe 'arquivo_atualizado.csv'"
   ]
  },
  {
   "cell_type": "code",
   "execution_count": 6,
   "id": "840f725d-6352-46cb-9b1c-4729784a0e85",
   "metadata": {
    "tags": []
   },
   "outputs": [],
   "source": [
    "import requests"
   ]
  },
  {
   "cell_type": "code",
   "execution_count": 7,
   "id": "0be136f8-aad2-4022-bd78-bd53c0193c77",
   "metadata": {
    "tags": []
   },
   "outputs": [],
   "source": [
    "# Função para buscar o nome do autor com base no ISBN\n",
    "def buscar_autor(isbn):\n",
    "  isbn_limpo = isbn.replace('-', '')\n",
    "  url = f\"https://www.googleapis.com/books/v1/volumes?q=isbn:{isbn_limpo}\"\n",
    "  response = requests.get(url).json()\n",
    "  try:\n",
    "    # Tenta obter o nome do primeiro autor do livro encontrado\n",
    "    autor = response['items'][0]['volumeInfo']['authors'][0]\n",
    "    autores_str = ', '.join(autor) if isinstance(autor, list) else autor\n",
    "    return autores_str\n",
    "  except (KeyError, IndexError):\n",
    "        # Retorna None se não encontrar um autor\n",
    "    return None\n",
    "\n",
    "# Preenche os autores faltantes\n",
    "for index, row in df[df['author'].isnull()].iterrows():\n",
    "    autor = buscar_autor(row['ISBN_13'])\n",
    "    if autor:\n",
    "        df.at[index, 'author'] = f'[{autor}]'\n",
    "\n",
    "# Salva o arquivo CSV atualizado\n",
    "df.to_csv('arquivo_atualizado.csv', index=False)"
   ]
  },
  {
   "cell_type": "code",
   "execution_count": 8,
   "id": "8e6d8b05-10f7-4330-a778-27c7df8216b9",
   "metadata": {
    "tags": []
   },
   "outputs": [],
   "source": [
    "df_2 = pd.read_csv('datasets/arquivo_atualizado.csv')"
   ]
  },
  {
   "cell_type": "code",
   "execution_count": 9,
   "id": "cf1d7148-9d58-45d3-8c6c-9309d21873f8",
   "metadata": {
    "tags": []
   },
   "outputs": [
    {
     "name": "stdout",
     "output_type": "stream",
     "text": [
      "<class 'pandas.core.frame.DataFrame'>\n",
      "RangeIndex: 946 entries, 0 to 945\n",
      "Data columns (total 18 columns):\n",
      " #   Column         Non-Null Count  Dtype  \n",
      "---  ------         --------------  -----  \n",
      " 0   title          946 non-null    object \n",
      " 1   author         941 non-null    object \n",
      " 2   price          944 non-null    float64\n",
      " 3   pages          934 non-null    float64\n",
      " 4   avg_reviews    823 non-null    float64\n",
      " 5   n_reviews      946 non-null    int64  \n",
      " 6   star5          946 non-null    float64\n",
      " 7   star4          946 non-null    float64\n",
      " 8   star3          946 non-null    float64\n",
      " 9   star2          946 non-null    float64\n",
      " 10  star1          946 non-null    float64\n",
      " 11  dimensions     914 non-null    object \n",
      " 12  weight         943 non-null    object \n",
      " 13  language       943 non-null    object \n",
      " 14  publisher      942 non-null    object \n",
      " 15  ISBN_13        945 non-null    object \n",
      " 16  link           946 non-null    object \n",
      " 17  complete_link  946 non-null    object \n",
      "dtypes: float64(8), int64(1), object(9)\n",
      "memory usage: 133.2+ KB\n"
     ]
    }
   ],
   "source": [
    "df_2.info()"
   ]
  },
  {
   "cell_type": "code",
   "execution_count": 10,
   "id": "24adcb92-f283-445e-8181-d51c6c12815d",
   "metadata": {
    "tags": []
   },
   "outputs": [
    {
     "data": {
      "text/plain": [
       "5"
      ]
     },
     "execution_count": 10,
     "metadata": {},
     "output_type": "execute_result"
    }
   ],
   "source": [
    "null = df_2['author'].isna()\n",
    "null.sum() "
   ]
  },
  {
   "cell_type": "markdown",
   "id": "1bc12693-c0df-4c81-88dd-437aba8c4ea7",
   "metadata": {
    "tags": []
   },
   "source": [
    "- Restaram 5 valores nulos, dos quais poderiamos simplesmente excluir ou buscar manualmente cada autor\n",
    "- Porém vamos criar um processo simples de automação com selenium para buscar e copiar os dados dos autores diretamente da amazon."
   ]
  },
  {
   "cell_type": "markdown",
   "id": "9aa8605d-b401-4186-ad0f-329ab70ff5ae",
   "metadata": {},
   "source": [
    "---"
   ]
  },
  {
   "cell_type": "code",
   "execution_count": 11,
   "id": "b2eb57bb-d7d9-4f0f-8de2-61b27cefe49e",
   "metadata": {
    "tags": []
   },
   "outputs": [
    {
     "data": {
      "text/html": [
       "<div>\n",
       "<style scoped>\n",
       "    .dataframe tbody tr th:only-of-type {\n",
       "        vertical-align: middle;\n",
       "    }\n",
       "\n",
       "    .dataframe tbody tr th {\n",
       "        vertical-align: top;\n",
       "    }\n",
       "\n",
       "    .dataframe thead th {\n",
       "        text-align: right;\n",
       "    }\n",
       "</style>\n",
       "<table border=\"1\" class=\"dataframe\">\n",
       "  <thead>\n",
       "    <tr style=\"text-align: right;\">\n",
       "      <th></th>\n",
       "      <th>title</th>\n",
       "      <th>author</th>\n",
       "      <th>ISBN_13</th>\n",
       "    </tr>\n",
       "  </thead>\n",
       "  <tbody>\n",
       "    <tr>\n",
       "      <th>613</th>\n",
       "      <td>Python Machine Learning Workbook for Beginners...</td>\n",
       "      <td>NaN</td>\n",
       "      <td>978-1734790177</td>\n",
       "    </tr>\n",
       "    <tr>\n",
       "      <th>657</th>\n",
       "      <td>Data Mining: Practical Machine Learning Tools ...</td>\n",
       "      <td>NaN</td>\n",
       "      <td>978-0128042915</td>\n",
       "    </tr>\n",
       "    <tr>\n",
       "      <th>679</th>\n",
       "      <td>The Elements of Statistical Learning: Data Min...</td>\n",
       "      <td>NaN</td>\n",
       "      <td>978-0387848570</td>\n",
       "    </tr>\n",
       "    <tr>\n",
       "      <th>752</th>\n",
       "      <td>Python Cookbook Third Edition</td>\n",
       "      <td>NaN</td>\n",
       "      <td>978-1449340377</td>\n",
       "    </tr>\n",
       "    <tr>\n",
       "      <th>802</th>\n",
       "      <td>Python for Data Analysis: A Beginners Guide to...</td>\n",
       "      <td>NaN</td>\n",
       "      <td>979-8463514271</td>\n",
       "    </tr>\n",
       "  </tbody>\n",
       "</table>\n",
       "</div>"
      ],
      "text/plain": [
       "                                                 title author         ISBN_13\n",
       "613  Python Machine Learning Workbook for Beginners...    NaN  978-1734790177\n",
       "657  Data Mining: Practical Machine Learning Tools ...    NaN  978-0128042915\n",
       "679  The Elements of Statistical Learning: Data Min...    NaN  978-0387848570\n",
       "752                      Python Cookbook Third Edition    NaN  978-1449340377\n",
       "802  Python for Data Analysis: A Beginners Guide to...    NaN  979-8463514271"
      ]
     },
     "execution_count": 11,
     "metadata": {},
     "output_type": "execute_result"
    }
   ],
   "source": [
    "df_3 = df_2[['title', 'author', 'ISBN_13' ]]\n",
    "nulls = df_3[null]\n",
    "nulls"
   ]
  },
  {
   "cell_type": "code",
   "execution_count": 15,
   "id": "deca196f-0b25-4303-9072-898cc72ad819",
   "metadata": {
    "tags": []
   },
   "outputs": [
    {
     "data": {
      "text/plain": [
       "array(['978-1734790177', '978-0128042915', '978-0387848570',\n",
       "       '978-1449340377', '979-8463514271'], dtype=object)"
      ]
     },
     "execution_count": 15,
     "metadata": {},
     "output_type": "execute_result"
    }
   ],
   "source": [
    "lista = np.array(nulls['ISBN_13']) # numpy list com os elementos para a pesquisa\n",
    "lista"
   ]
  },
  {
   "cell_type": "code",
   "execution_count": 12,
   "id": "e8c719dc-e7bd-421a-b3a0-22993b7a21d7",
   "metadata": {
    "tags": []
   },
   "outputs": [],
   "source": [
    "from selenium import webdriver\n",
    "from webdriver_manager.chrome import ChromeDriverManager\n",
    "from selenium.webdriver.common.by import By\n",
    "from selenium.webdriver.chrome.service import Service"
   ]
  },
  {
   "cell_type": "code",
   "execution_count": 17,
   "id": "624c8225-93ca-4abc-a7b5-6a9f1b9728b4",
   "metadata": {
    "tags": []
   },
   "outputs": [],
   "source": [
    "# função para buscar os autores na amazon\n",
    "def pesquisar_livro(valor):\n",
    "    service = Service(ChromeDriverManager().install()) # instala chrome driver\n",
    "    driver = webdriver.Chrome(service = service) # define webdriver como driver e abre o navegador\n",
    "\n",
    "    driver.get(\"https://www.amazon.com\")  # entra na amazon\n",
    "    driver.find_element(By.XPATH, '//*[@id=\"twotabsearchtextbox\"]').send_keys(valor) # encontra a barra de pesquisa e escreve a variável 'valor'\n",
    "    driver.find_element(By.XPATH, '//*[@id=\"nav-search-submit-button\"]').click()            # clicka em avançar na pesquisa\n",
    "    driver.find_element(By.XPATH, '//*[@id=\"search\"]/div[1]/div[1]/div/span[1]/div[1]/div[2]/div/div/span/div/div/div/div[2]/div/div/div[1]/h2/a/span').click()\n",
    "    # entra na primeira opção da lista\n",
    "    info_autor = driver.find_element(By.XPATH, '//*[@id=\"bylineInfo\"]').text # extrai o texto do caminho onde está descrito o autor\n",
    "    title = driver.find_element(By.XPATH, '//*[@id=\"productTitle\"]').text  # extrai o titúlo da obra\n",
    "    return title, info_autor, valor # retorna os valores para as variáveis \n",
    "    driver.quit() # fecha o navegador"
   ]
  },
  {
   "cell_type": "code",
   "execution_count": 18,
   "id": "ab64a0f9-4cd0-47c2-a195-b1b9eb4eb323",
   "metadata": {
    "tags": []
   },
   "outputs": [],
   "source": [
    "# vamos criar um novo dataframe para simplificar a formatação da coluna\n",
    "\n",
    "df_resultados = pd.DataFrame(columns=['title', 'author', 'ISBN_13']) \n",
    "\n",
    "for pesquisa in lista: # loop simples para executar a pesquisa para cada item na lista e armazenar em df_resultados\n",
    "    title, info_autor, valor = pesquisar_livro(pesquisa) # chamando a função\n",
    "    \n",
    "    df_resultados = pd.concat([df_resultados, pd.DataFrame({'title': [title], 'author': [info_autor], 'ISBN_13': [valor]})], ignore_index=True)"
   ]
  },
  {
   "cell_type": "code",
   "execution_count": 19,
   "id": "b76ef82f-d4a1-43f8-a8dd-418354a018de",
   "metadata": {
    "tags": []
   },
   "outputs": [
    {
     "data": {
      "text/html": [
       "<div>\n",
       "<style scoped>\n",
       "    .dataframe tbody tr th:only-of-type {\n",
       "        vertical-align: middle;\n",
       "    }\n",
       "\n",
       "    .dataframe tbody tr th {\n",
       "        vertical-align: top;\n",
       "    }\n",
       "\n",
       "    .dataframe thead th {\n",
       "        text-align: right;\n",
       "    }\n",
       "</style>\n",
       "<table border=\"1\" class=\"dataframe\">\n",
       "  <thead>\n",
       "    <tr style=\"text-align: right;\">\n",
       "      <th></th>\n",
       "      <th>title</th>\n",
       "      <th>author</th>\n",
       "      <th>ISBN_13</th>\n",
       "    </tr>\n",
       "  </thead>\n",
       "  <tbody>\n",
       "    <tr>\n",
       "      <th>0</th>\n",
       "      <td>Python Machine Learning Workbook for Beginners...</td>\n",
       "      <td>by AI Publishing (Author)</td>\n",
       "      <td>978-1734790177</td>\n",
       "    </tr>\n",
       "    <tr>\n",
       "      <th>1</th>\n",
       "      <td>Data Mining: Practical Machine Learning Tools ...</td>\n",
       "      <td>by Ian H. Witten (Author), Eibe Frank (Author)...</td>\n",
       "      <td>978-0128042915</td>\n",
       "    </tr>\n",
       "    <tr>\n",
       "      <th>2</th>\n",
       "      <td>The Elements of Statistical Learning: Data Min...</td>\n",
       "      <td>by Trevor Hastie (Author), Robert Tibshirani (...</td>\n",
       "      <td>978-0387848570</td>\n",
       "    </tr>\n",
       "    <tr>\n",
       "      <th>3</th>\n",
       "      <td>Python Cookbook, Third Edition</td>\n",
       "      <td>by David Beazley (Author), Brian Jones (Author)</td>\n",
       "      <td>978-1449340377</td>\n",
       "    </tr>\n",
       "    <tr>\n",
       "      <th>4</th>\n",
       "      <td>Python for Data Analysis: A Beginners Guide to...</td>\n",
       "      <td>by Brady Ellison (Author) Format: Kindle Edition</td>\n",
       "      <td>979-8463514271</td>\n",
       "    </tr>\n",
       "  </tbody>\n",
       "</table>\n",
       "</div>"
      ],
      "text/plain": [
       "                                               title  \\\n",
       "0  Python Machine Learning Workbook for Beginners...   \n",
       "1  Data Mining: Practical Machine Learning Tools ...   \n",
       "2  The Elements of Statistical Learning: Data Min...   \n",
       "3                     Python Cookbook, Third Edition   \n",
       "4  Python for Data Analysis: A Beginners Guide to...   \n",
       "\n",
       "                                              author         ISBN_13  \n",
       "0                          by AI Publishing (Author)  978-1734790177  \n",
       "1  by Ian H. Witten (Author), Eibe Frank (Author)...  978-0128042915  \n",
       "2  by Trevor Hastie (Author), Robert Tibshirani (...  978-0387848570  \n",
       "3    by David Beazley (Author), Brian Jones (Author)  978-1449340377  \n",
       "4   by Brady Ellison (Author) Format: Kindle Edition  979-8463514271  "
      ]
     },
     "execution_count": 19,
     "metadata": {},
     "output_type": "execute_result"
    }
   ],
   "source": [
    "df_resultados"
   ]
  },
  {
   "cell_type": "markdown",
   "id": "f39521f9-368c-4079-88b8-68494839c49f",
   "metadata": {},
   "source": [
    "- alterando as strings para se adequar ao resto do dataframe"
   ]
  },
  {
   "cell_type": "code",
   "execution_count": 20,
   "id": "6dd6076f-9588-410a-b7d7-9cde6886fe93",
   "metadata": {
    "tags": []
   },
   "outputs": [],
   "source": [
    "df_resultados['author'] = df_resultados['author'].str.replace('by', '')\n",
    "df_resultados['author'] = df_resultados['author'].str.replace('(author)', '')"
   ]
  },
  {
   "cell_type": "code",
   "execution_count": 21,
   "id": "89d1601d-5bde-4c9e-b611-2ef478d7c6f2",
   "metadata": {
    "tags": []
   },
   "outputs": [],
   "source": [
    "def adicionar_colchetes(texto):\n",
    "    return f\"[{texto}]\"\n",
    "df_resultados['author']  = df_resultados['author'].apply(adicionar_colchetes)"
   ]
  },
  {
   "cell_type": "code",
   "execution_count": 22,
   "id": "8cd96920-5b47-460c-b125-fddceee7d062",
   "metadata": {
    "tags": []
   },
   "outputs": [
    {
     "data": {
      "text/html": [
       "<div>\n",
       "<style scoped>\n",
       "    .dataframe tbody tr th:only-of-type {\n",
       "        vertical-align: middle;\n",
       "    }\n",
       "\n",
       "    .dataframe tbody tr th {\n",
       "        vertical-align: top;\n",
       "    }\n",
       "\n",
       "    .dataframe thead th {\n",
       "        text-align: right;\n",
       "    }\n",
       "</style>\n",
       "<table border=\"1\" class=\"dataframe\">\n",
       "  <thead>\n",
       "    <tr style=\"text-align: right;\">\n",
       "      <th></th>\n",
       "      <th>title</th>\n",
       "      <th>author</th>\n",
       "      <th>ISBN_13</th>\n",
       "    </tr>\n",
       "  </thead>\n",
       "  <tbody>\n",
       "    <tr>\n",
       "      <th>0</th>\n",
       "      <td>Python Machine Learning Workbook for Beginners...</td>\n",
       "      <td>[ AI Publishing (Author)]</td>\n",
       "      <td>978-1734790177</td>\n",
       "    </tr>\n",
       "    <tr>\n",
       "      <th>1</th>\n",
       "      <td>Data Mining: Practical Machine Learning Tools ...</td>\n",
       "      <td>[ Ian H. Witten (Author), Eibe Frank (Author),...</td>\n",
       "      <td>978-0128042915</td>\n",
       "    </tr>\n",
       "    <tr>\n",
       "      <th>2</th>\n",
       "      <td>The Elements of Statistical Learning: Data Min...</td>\n",
       "      <td>[ Trevor Hastie (Author), Robert Tibshirani (A...</td>\n",
       "      <td>978-0387848570</td>\n",
       "    </tr>\n",
       "    <tr>\n",
       "      <th>3</th>\n",
       "      <td>Python Cookbook, Third Edition</td>\n",
       "      <td>[ David Beazley (Author), Brian Jones (Author)]</td>\n",
       "      <td>978-1449340377</td>\n",
       "    </tr>\n",
       "    <tr>\n",
       "      <th>4</th>\n",
       "      <td>Python for Data Analysis: A Beginners Guide to...</td>\n",
       "      <td>[ Brady Ellison (Author) Format: Kindle Edition]</td>\n",
       "      <td>979-8463514271</td>\n",
       "    </tr>\n",
       "  </tbody>\n",
       "</table>\n",
       "</div>"
      ],
      "text/plain": [
       "                                               title  \\\n",
       "0  Python Machine Learning Workbook for Beginners...   \n",
       "1  Data Mining: Practical Machine Learning Tools ...   \n",
       "2  The Elements of Statistical Learning: Data Min...   \n",
       "3                     Python Cookbook, Third Edition   \n",
       "4  Python for Data Analysis: A Beginners Guide to...   \n",
       "\n",
       "                                              author         ISBN_13  \n",
       "0                          [ AI Publishing (Author)]  978-1734790177  \n",
       "1  [ Ian H. Witten (Author), Eibe Frank (Author),...  978-0128042915  \n",
       "2  [ Trevor Hastie (Author), Robert Tibshirani (A...  978-0387848570  \n",
       "3    [ David Beazley (Author), Brian Jones (Author)]  978-1449340377  \n",
       "4   [ Brady Ellison (Author) Format: Kindle Edition]  979-8463514271  "
      ]
     },
     "execution_count": 22,
     "metadata": {},
     "output_type": "execute_result"
    }
   ],
   "source": [
    "df_resultados"
   ]
  },
  {
   "cell_type": "markdown",
   "id": "3e59ca53-6076-425e-b2b6-5a07eab5571c",
   "metadata": {
    "tags": []
   },
   "source": [
    "---"
   ]
  },
  {
   "cell_type": "code",
   "execution_count": 23,
   "id": "1fcbdf5b-f4e1-4a25-b729-573fa9dbddad",
   "metadata": {
    "tags": []
   },
   "outputs": [],
   "source": [
    "# adicionando os valores correspondentes no df\n",
    "values = {\n",
    "    '978-1734790177': '[ AI Publishing ]',\n",
    "    '978-0128042915': '[ Ian H. Witten , Eibe Frank , Mark A. Hall , & 1 more]',\n",
    "    '978-0387848570': '[ Trevor Hastie , Robert Tibshirani , Jerome Friedman ]',\n",
    "    '978-1449340377': '[ David Beazley , Brian Jones ]',\n",
    "    '979-8463514271': '[ Brady Ellison  Format: Kindle Edition]'\n",
    "}"
   ]
  },
  {
   "cell_type": "code",
   "execution_count": 24,
   "id": "f374fb84-2985-4e56-8f3f-a10c29035b57",
   "metadata": {
    "tags": []
   },
   "outputs": [],
   "source": [
    "df_2['author'].fillna(value=df_2['ISBN_13'].map(values), inplace=True)"
   ]
  },
  {
   "cell_type": "code",
   "execution_count": 25,
   "id": "bb5aa8ce-f9f9-4146-ab9b-e66dd9f9dcb7",
   "metadata": {
    "tags": []
   },
   "outputs": [
    {
     "name": "stdout",
     "output_type": "stream",
     "text": [
      "<class 'pandas.core.frame.DataFrame'>\n",
      "RangeIndex: 946 entries, 0 to 945\n",
      "Data columns (total 18 columns):\n",
      " #   Column         Non-Null Count  Dtype  \n",
      "---  ------         --------------  -----  \n",
      " 0   title          946 non-null    object \n",
      " 1   author         946 non-null    object \n",
      " 2   price          944 non-null    float64\n",
      " 3   pages          934 non-null    float64\n",
      " 4   avg_reviews    823 non-null    float64\n",
      " 5   n_reviews      946 non-null    int64  \n",
      " 6   star5          946 non-null    float64\n",
      " 7   star4          946 non-null    float64\n",
      " 8   star3          946 non-null    float64\n",
      " 9   star2          946 non-null    float64\n",
      " 10  star1          946 non-null    float64\n",
      " 11  dimensions     914 non-null    object \n",
      " 12  weight         943 non-null    object \n",
      " 13  language       943 non-null    object \n",
      " 14  publisher      942 non-null    object \n",
      " 15  ISBN_13        945 non-null    object \n",
      " 16  link           946 non-null    object \n",
      " 17  complete_link  946 non-null    object \n",
      "dtypes: float64(8), int64(1), object(9)\n",
      "memory usage: 133.2+ KB\n"
     ]
    }
   ],
   "source": [
    "df_2.info()"
   ]
  },
  {
   "cell_type": "code",
   "execution_count": 26,
   "id": "4b81d68b-0cc7-43bf-bf10-4be3d0367186",
   "metadata": {
    "tags": []
   },
   "outputs": [
    {
     "data": {
      "text/plain": [
       "0"
      ]
     },
     "execution_count": 26,
     "metadata": {},
     "output_type": "execute_result"
    }
   ],
   "source": [
    "null = df_2['author'].isna()\n",
    "null.sum() "
   ]
  },
  {
   "cell_type": "markdown",
   "id": "8ce18edc-ac09-41d4-aa21-186e13a34fb9",
   "metadata": {},
   "source": [
    "#### Autores devidamente definidos, \n",
    "- agora vamos verificar os valores 'avg_reviews' nulos"
   ]
  },
  {
   "cell_type": "code",
   "execution_count": 27,
   "id": "dc904a82-d379-4df1-89aa-a5c6d494bf4b",
   "metadata": {
    "tags": []
   },
   "outputs": [
    {
     "data": {
      "text/html": [
       "<div>\n",
       "<style scoped>\n",
       "    .dataframe tbody tr th:only-of-type {\n",
       "        vertical-align: middle;\n",
       "    }\n",
       "\n",
       "    .dataframe tbody tr th {\n",
       "        vertical-align: top;\n",
       "    }\n",
       "\n",
       "    .dataframe thead th {\n",
       "        text-align: right;\n",
       "    }\n",
       "</style>\n",
       "<table border=\"1\" class=\"dataframe\">\n",
       "  <thead>\n",
       "    <tr style=\"text-align: right;\">\n",
       "      <th></th>\n",
       "      <th>avg_reviews</th>\n",
       "      <th>n_reviews</th>\n",
       "      <th>star5</th>\n",
       "      <th>star4</th>\n",
       "      <th>star3</th>\n",
       "      <th>star2</th>\n",
       "      <th>star1</th>\n",
       "    </tr>\n",
       "  </thead>\n",
       "  <tbody>\n",
       "    <tr>\n",
       "      <th>8</th>\n",
       "      <td>NaN</td>\n",
       "      <td>0</td>\n",
       "      <td>0.0</td>\n",
       "      <td>0.0</td>\n",
       "      <td>0.0</td>\n",
       "      <td>0.0</td>\n",
       "      <td>0.0</td>\n",
       "    </tr>\n",
       "    <tr>\n",
       "      <th>23</th>\n",
       "      <td>NaN</td>\n",
       "      <td>0</td>\n",
       "      <td>0.0</td>\n",
       "      <td>0.0</td>\n",
       "      <td>0.0</td>\n",
       "      <td>0.0</td>\n",
       "      <td>0.0</td>\n",
       "    </tr>\n",
       "    <tr>\n",
       "      <th>37</th>\n",
       "      <td>NaN</td>\n",
       "      <td>0</td>\n",
       "      <td>0.0</td>\n",
       "      <td>0.0</td>\n",
       "      <td>0.0</td>\n",
       "      <td>0.0</td>\n",
       "      <td>0.0</td>\n",
       "    </tr>\n",
       "    <tr>\n",
       "      <th>47</th>\n",
       "      <td>NaN</td>\n",
       "      <td>0</td>\n",
       "      <td>0.0</td>\n",
       "      <td>0.0</td>\n",
       "      <td>0.0</td>\n",
       "      <td>0.0</td>\n",
       "      <td>0.0</td>\n",
       "    </tr>\n",
       "    <tr>\n",
       "      <th>51</th>\n",
       "      <td>NaN</td>\n",
       "      <td>0</td>\n",
       "      <td>0.0</td>\n",
       "      <td>0.0</td>\n",
       "      <td>0.0</td>\n",
       "      <td>0.0</td>\n",
       "      <td>0.0</td>\n",
       "    </tr>\n",
       "    <tr>\n",
       "      <th>...</th>\n",
       "      <td>...</td>\n",
       "      <td>...</td>\n",
       "      <td>...</td>\n",
       "      <td>...</td>\n",
       "      <td>...</td>\n",
       "      <td>...</td>\n",
       "      <td>...</td>\n",
       "    </tr>\n",
       "    <tr>\n",
       "      <th>842</th>\n",
       "      <td>NaN</td>\n",
       "      <td>0</td>\n",
       "      <td>0.0</td>\n",
       "      <td>0.0</td>\n",
       "      <td>0.0</td>\n",
       "      <td>0.0</td>\n",
       "      <td>0.0</td>\n",
       "    </tr>\n",
       "    <tr>\n",
       "      <th>845</th>\n",
       "      <td>NaN</td>\n",
       "      <td>0</td>\n",
       "      <td>0.0</td>\n",
       "      <td>0.0</td>\n",
       "      <td>0.0</td>\n",
       "      <td>0.0</td>\n",
       "      <td>0.0</td>\n",
       "    </tr>\n",
       "    <tr>\n",
       "      <th>928</th>\n",
       "      <td>NaN</td>\n",
       "      <td>0</td>\n",
       "      <td>0.0</td>\n",
       "      <td>0.0</td>\n",
       "      <td>0.0</td>\n",
       "      <td>0.0</td>\n",
       "      <td>0.0</td>\n",
       "    </tr>\n",
       "    <tr>\n",
       "      <th>929</th>\n",
       "      <td>NaN</td>\n",
       "      <td>0</td>\n",
       "      <td>0.0</td>\n",
       "      <td>0.0</td>\n",
       "      <td>0.0</td>\n",
       "      <td>0.0</td>\n",
       "      <td>0.0</td>\n",
       "    </tr>\n",
       "    <tr>\n",
       "      <th>940</th>\n",
       "      <td>NaN</td>\n",
       "      <td>0</td>\n",
       "      <td>0.0</td>\n",
       "      <td>0.0</td>\n",
       "      <td>0.0</td>\n",
       "      <td>0.0</td>\n",
       "      <td>0.0</td>\n",
       "    </tr>\n",
       "  </tbody>\n",
       "</table>\n",
       "<p>123 rows × 7 columns</p>\n",
       "</div>"
      ],
      "text/plain": [
       "     avg_reviews  n_reviews  star5  star4  star3  star2  star1\n",
       "8            NaN          0    0.0    0.0    0.0    0.0    0.0\n",
       "23           NaN          0    0.0    0.0    0.0    0.0    0.0\n",
       "37           NaN          0    0.0    0.0    0.0    0.0    0.0\n",
       "47           NaN          0    0.0    0.0    0.0    0.0    0.0\n",
       "51           NaN          0    0.0    0.0    0.0    0.0    0.0\n",
       "..           ...        ...    ...    ...    ...    ...    ...\n",
       "842          NaN          0    0.0    0.0    0.0    0.0    0.0\n",
       "845          NaN          0    0.0    0.0    0.0    0.0    0.0\n",
       "928          NaN          0    0.0    0.0    0.0    0.0    0.0\n",
       "929          NaN          0    0.0    0.0    0.0    0.0    0.0\n",
       "940          NaN          0    0.0    0.0    0.0    0.0    0.0\n",
       "\n",
       "[123 rows x 7 columns]"
      ]
     },
     "execution_count": 27,
     "metadata": {},
     "output_type": "execute_result"
    }
   ],
   "source": [
    "null = df['avg_reviews'].isna() \n",
    "nulls = df[null]\n",
    "nulls_2 = nulls[['avg_reviews', 'n_reviews',\n",
    "       'star5', 'star4', 'star3', 'star2', 'star1']]\n",
    "nulls_2"
   ]
  },
  {
   "cell_type": "code",
   "execution_count": 28,
   "id": "3adcbaa9-c026-4e36-be17-ee4e93d72135",
   "metadata": {
    "tags": []
   },
   "outputs": [
    {
     "data": {
      "text/plain": [
       "avg_reviews    NaN\n",
       "n_reviews      0.0\n",
       "star5          0.0\n",
       "star4          0.0\n",
       "star3          0.0\n",
       "star2          0.0\n",
       "star1          0.0\n",
       "dtype: float64"
      ]
     },
     "execution_count": 28,
     "metadata": {},
     "output_type": "execute_result"
    }
   ],
   "source": [
    "nulls_2.var()"
   ]
  },
  {
   "cell_type": "markdown",
   "id": "712b87cb-7973-4ef1-a753-a1017c651650",
   "metadata": {
    "tags": []
   },
   "source": [
    "#### Os dois ultimos métodos nos permite perceber que todos os valores nulos em 'n_reviews' são referênte a livros com nenhuma avaliação, \n",
    "- vou alterar os valores nulos da coluna por 0, considerando que não irá causar impacto nas somas de média."
   ]
  },
  {
   "cell_type": "code",
   "execution_count": 32,
   "id": "58c15b4a-ac9c-4870-ae20-6739c4cd4756",
   "metadata": {
    "tags": []
   },
   "outputs": [],
   "source": [
    "df_2['avg_reviews'].fillna(0, inplace = True)"
   ]
  },
  {
   "cell_type": "code",
   "execution_count": 33,
   "id": "08d3e732-7118-44d0-9f3e-41c5db676fc0",
   "metadata": {
    "tags": []
   },
   "outputs": [
    {
     "name": "stdout",
     "output_type": "stream",
     "text": [
      "<class 'pandas.core.frame.DataFrame'>\n",
      "RangeIndex: 946 entries, 0 to 945\n",
      "Data columns (total 18 columns):\n",
      " #   Column         Non-Null Count  Dtype  \n",
      "---  ------         --------------  -----  \n",
      " 0   title          946 non-null    object \n",
      " 1   author         946 non-null    object \n",
      " 2   price          944 non-null    float64\n",
      " 3   pages          934 non-null    float64\n",
      " 4   avg_reviews    946 non-null    float64\n",
      " 5   n_reviews      946 non-null    int64  \n",
      " 6   star5          946 non-null    float64\n",
      " 7   star4          946 non-null    float64\n",
      " 8   star3          946 non-null    float64\n",
      " 9   star2          946 non-null    float64\n",
      " 10  star1          946 non-null    float64\n",
      " 11  dimensions     914 non-null    object \n",
      " 12  weight         943 non-null    object \n",
      " 13  language       943 non-null    object \n",
      " 14  publisher      942 non-null    object \n",
      " 15  ISBN_13        945 non-null    object \n",
      " 16  link           946 non-null    object \n",
      " 17  complete_link  946 non-null    object \n",
      "dtypes: float64(8), int64(1), object(9)\n",
      "memory usage: 133.2+ KB\n"
     ]
    }
   ],
   "source": [
    "df_2.info()"
   ]
  },
  {
   "cell_type": "markdown",
   "id": "8831a4a4-4f3e-476b-a0b9-3d6cd92d2b4b",
   "metadata": {},
   "source": [
    "---"
   ]
  },
  {
   "cell_type": "markdown",
   "id": "dd3c6084-0a22-4512-8acb-bfa1b1ac903b",
   "metadata": {},
   "source": [
    "#### Agora vamos criar um novo dataset já com os devidos valores tratados"
   ]
  },
  {
   "cell_type": "code",
   "execution_count": 34,
   "id": "86975316-0e06-4979-ac72-911a1a769f94",
   "metadata": {},
   "outputs": [],
   "source": [
    "df_2.to_csv('datasets/data_set_completo_1.csv', index = False)"
   ]
  },
  {
   "cell_type": "code",
   "execution_count": null,
   "id": "ab00ff45-9114-49e2-bee5-006c23b653ae",
   "metadata": {},
   "outputs": [],
   "source": []
  }
 ],
 "metadata": {
  "kernelspec": {
   "display_name": "Python 3 (ipykernel)",
   "language": "python",
   "name": "python3"
  },
  "language_info": {
   "codemirror_mode": {
    "name": "ipython",
    "version": 3
   },
   "file_extension": ".py",
   "mimetype": "text/x-python",
   "name": "python",
   "nbconvert_exporter": "python",
   "pygments_lexer": "ipython3",
   "version": "3.11.5"
  }
 },
 "nbformat": 4,
 "nbformat_minor": 5
}
